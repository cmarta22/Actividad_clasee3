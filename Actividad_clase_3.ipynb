{
 "cells": [
  {
   "cell_type": "markdown",
   "metadata": {},
   "source": [
    "# Actividad n° 3 programacion II \n",
    "### Ejercicios de datos complejos \n"
   ]
  },
  {
   "cell_type": "markdown",
   "metadata": {},
   "source": [
    "Crear una lista de nombres de ciudades."
   ]
  },
  {
   "cell_type": "code",
   "execution_count": 1,
   "metadata": {},
   "outputs": [
    {
     "name": "stdout",
     "output_type": "stream",
     "text": [
      "['Rio Grande', 'Tolhuin', 'Ushuaia', 'Rio Gallegos', 'san julian']\n"
     ]
    }
   ],
   "source": [
    "ciudades=[\"Rio Grande\",\"Tolhuin\",\"Ushuaia\",\"Rio Gallegos\",\"san julian\"]\n",
    "print(ciudades)\n"
   ]
  },
  {
   "cell_type": "markdown",
   "metadata": {},
   "source": [
    "Crear un diccionario con información de empleados (nombre, cargo, salario)."
   ]
  },
  {
   "cell_type": "code",
   "execution_count": 3,
   "metadata": {},
   "outputs": [
    {
     "name": "stdout",
     "output_type": "stream",
     "text": [
      "{'1': {'nombre': 'Matias', 'cargo': 'gerente', 'salario': 800000}, '2': {'nombre': 'Marcelo', 'cargo': 'analista en sistemas', 'salario': 600000}}\n"
     ]
    }
   ],
   "source": [
    "empleados={\"1\":{\"nombre\":\"Matias\",\"cargo\":\"gerente\",\"salario\":800000},\n",
    "           \"2\":{\"nombre\":\"Marcelo\",\"cargo\":\"analista en sistemas\",\"salario\":600000}}\n",
    "print(empleados)"
   ]
  },
  {
   "cell_type": "markdown",
   "metadata": {},
   "source": [
    "Mostrar cómo acceder a un elemento específico en una lista y en un diccionario."
   ]
  },
  {
   "cell_type": "code",
   "execution_count": 5,
   "metadata": {},
   "outputs": [
    {
     "name": "stdout",
     "output_type": "stream",
     "text": [
      "Rio Grande\n"
     ]
    }
   ],
   "source": [
    "rio_grande=ciudades[0]\n",
    "print(rio_grande)"
   ]
  },
  {
   "cell_type": "code",
   "execution_count": 6,
   "metadata": {},
   "outputs": [
    {
     "name": "stdout",
     "output_type": "stream",
     "text": [
      "{'nombre': 'Matias', 'cargo': 'gerente', 'salario': 800000}\n"
     ]
    }
   ],
   "source": [
    "print(empleados[\"1\"])"
   ]
  },
  {
   "cell_type": "markdown",
   "metadata": {},
   "source": [
    "Crea una lista inicial de números enteros."
   ]
  },
  {
   "cell_type": "code",
   "execution_count": 7,
   "metadata": {},
   "outputs": [
    {
     "name": "stdout",
     "output_type": "stream",
     "text": [
      "[5, 8, 15, 55, 20, 25, 10]\n"
     ]
    }
   ],
   "source": [
    "numeros=[5,8,15,55,20,25,10]\n",
    "print(numeros)"
   ]
  },
  {
   "cell_type": "markdown",
   "metadata": {},
   "source": [
    "Utiliza el método .append() para agregar un número al final de la lista.\n",
    "Utiliza el método .extend() para agregar múltiples elementos a la lista.\n",
    "Utiliza el método .insert() para insertar un número en una posición específica de la lista.\n",
    "Muestra cómo utilizar el método .sort() para ordenar la lista de números de forma ascendente."
   ]
  },
  {
   "cell_type": "code",
   "execution_count": 8,
   "metadata": {},
   "outputs": [
    {
     "name": "stdout",
     "output_type": "stream",
     "text": [
      "[5, 8, 15, 55, 20, 25, 10, 60]\n"
     ]
    }
   ],
   "source": [
    "numeros.append(60)\n",
    "print(numeros)"
   ]
  },
  {
   "cell_type": "code",
   "execution_count": 9,
   "metadata": {},
   "outputs": [
    {
     "name": "stdout",
     "output_type": "stream",
     "text": [
      "[54, 1, 30]\n"
     ]
    }
   ],
   "source": [
    "numeros2=[54,1,30]\n",
    "numeros.extend(numeros2)\n",
    "print(numeros2)"
   ]
  },
  {
   "cell_type": "code",
   "execution_count": 13,
   "metadata": {},
   "outputs": [
    {
     "name": "stdout",
     "output_type": "stream",
     "text": [
      "[1, 5, 8, 10, 7, 12, 12, 15, 20, 25, 30, 54, 55, 60]\n"
     ]
    }
   ],
   "source": [
    "numeros.insert(4,7,12)\n",
    "print(numeros)"
   ]
  },
  {
   "cell_type": "code",
   "execution_count": 12,
   "metadata": {},
   "outputs": [
    {
     "name": "stdout",
     "output_type": "stream",
     "text": [
      "[1, 5, 8, 10, 12, 12, 15, 20, 25, 30, 54, 55, 60]\n"
     ]
    }
   ],
   "source": [
    "numeros.sort()\n",
    "print(numeros)"
   ]
  },
  {
   "cell_type": "markdown",
   "metadata": {},
   "source": [
    "Crea un diccionario con información de productos (nombre del producto, precio, cantidad en stock).\n",
    "Utiliza el método .keys() para obtener una lista de las llaves (nombres de productos) en el diccionario.\n",
    "Utiliza el método .values() para obtener una lista de los valores (precios y cantidades) en el diccionario.\n",
    "Utiliza el método .items() para obtener una lista de tuplas con pares clave-valor del diccionario.\n",
    "Muestra cómo utilizar el método .get() para obtener el precio de un producto específico del diccionario."
   ]
  },
  {
   "cell_type": "code",
   "execution_count": 14,
   "metadata": {},
   "outputs": [
    {
     "name": "stdout",
     "output_type": "stream",
     "text": [
      "{'jabon': {'precio': 2000, 'stock': 150}, 'desodorante': {'precio': 1500, 'stock': 100}, 'lavandina': {'precio': 1200, 'stock': 80}}\n"
     ]
    }
   ],
   "source": [
    "productos={\"jabon\":{\"precio\":2000,\"stock\":150},\n",
    "           \"desodorante\":{\"precio\":1500,\"stock\":100},\n",
    "           \"lavandina\":{\"precio\":1200,\"stock\":80}}\n",
    "print(productos)"
   ]
  },
  {
   "cell_type": "code",
   "execution_count": null,
   "metadata": {},
   "outputs": [],
   "source": []
  },
  {
   "cell_type": "code",
   "execution_count": 21,
   "metadata": {},
   "outputs": [
    {
     "name": "stdout",
     "output_type": "stream",
     "text": [
      "{'jabon': {'precio': 2000, 'stock': 150}, 'desodorante': {'precio': 1500, 'stock': 100}, 'lavandina': {'precio': 1200, 'stock': 80}}\n"
     ]
    }
   ],
   "source": [
    "productos.keys()\n",
    "print(productos)"
   ]
  },
  {
   "cell_type": "code",
   "execution_count": 16,
   "metadata": {},
   "outputs": [
    {
     "name": "stdout",
     "output_type": "stream",
     "text": [
      "{'jabon': {'precio': 2000, 'stock': 150}, 'desodorante': {'precio': 1500, 'stock': 100}, 'lavandina': {'precio': 1200, 'stock': 80}}\n"
     ]
    }
   ],
   "source": [
    "productos.values()\n",
    "print(productos)"
   ]
  },
  {
   "cell_type": "code",
   "execution_count": 22,
   "metadata": {},
   "outputs": [
    {
     "name": "stdout",
     "output_type": "stream",
     "text": [
      "{'jabon': {'precio': 2000, 'stock': 150}, 'desodorante': {'precio': 1500, 'stock': 100}, 'lavandina': {'precio': 1200, 'stock': 80}}\n"
     ]
    }
   ],
   "source": [
    "productos.items()\n",
    "print(productos)"
   ]
  },
  {
   "cell_type": "markdown",
   "metadata": {},
   "source": [
    "Crear una lista de diccionarios que represente información de libros (título, autor, año de publicación).\n",
    "Crear un diccionario que contenga listas como valores (por ejemplo, un diccionario de estudiantes y sus materias).\n",
    "Mostrar cómo modificar un valor en una lista dentro de un diccionario y viceversa."
   ]
  },
  {
   "cell_type": "code",
   "execution_count": 28,
   "metadata": {},
   "outputs": [
    {
     "name": "stdout",
     "output_type": "stream",
     "text": [
      "{'libro1': ['julio roca', 2022], 'libro2': ['marcos linares', 2016]}\n"
     ]
    }
   ],
   "source": [
    "libros={\"libro1\":[\"julio roca\",2022],\n",
    "        \"libro2\":[\"marcos linares\",2016]}\n",
    "print(libros)"
   ]
  },
  {
   "cell_type": "code",
   "execution_count": 25,
   "metadata": {},
   "outputs": [
    {
     "name": "stdout",
     "output_type": "stream",
     "text": [
      "{'estudiante1': ['matematica', 'practica del lenguaje', 'fisica'], 'estudiante2': ['programacion', 'quimica', 'base de datos']}\n"
     ]
    }
   ],
   "source": [
    "estudiantes={\"estudiante1\":[\"matematica\",\"practica del lenguaje\",\"fisica\"],\n",
    "             \"estudiante2\":[\"programacion\",\"quimica\",\"base de datos\"]}\n",
    "print(estudiantes)"
   ]
  },
  {
   "cell_type": "code",
   "execution_count": 30,
   "metadata": {},
   "outputs": [
    {
     "name": "stdout",
     "output_type": "stream",
     "text": [
      "['matematica', 'programacionII', 'fisica']\n"
     ]
    }
   ],
   "source": [
    "estudiantes[\"estudiante1\"][1]=\"programacionII\"\n",
    "print(estudiantes[\"estudiante1\"])"
   ]
  }
 ],
 "metadata": {
  "kernelspec": {
   "display_name": "Python 3",
   "language": "python",
   "name": "python3"
  },
  "language_info": {
   "codemirror_mode": {
    "name": "ipython",
    "version": 3
   },
   "file_extension": ".py",
   "mimetype": "text/x-python",
   "name": "python",
   "nbconvert_exporter": "python",
   "pygments_lexer": "ipython3",
   "version": "3.11.5"
  },
  "orig_nbformat": 4
 },
 "nbformat": 4,
 "nbformat_minor": 2
}
